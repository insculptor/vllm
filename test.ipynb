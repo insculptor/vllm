{
 "cells": [
  {
   "cell_type": "markdown",
   "metadata": {},
   "source": [
    "# Config"
   ]
  },
  {
   "cell_type": "code",
   "execution_count": 1,
   "metadata": {},
   "outputs": [
    {
     "name": "stdout",
     "output_type": "stream",
     "text": [
      "[INFO] Running in Environment: local\n",
      "Loading configuration from: c:\\Users\\erdrr\\OneDrive\\Desktop\\KB\\Projects\\vllm\\config\\local.yaml\n"
     ]
    }
   ],
   "source": [
    "import os\n",
    "os.environ[\"ENV\"] = \"local\"\n",
    "from src.utils.config import ConfigLoader\n",
    "config_loader = ConfigLoader()"
   ]
  },
  {
   "cell_type": "code",
   "execution_count": 4,
   "metadata": {},
   "outputs": [],
   "source": [
    "engine_args_config = config_loader.get('engine_args', {})\n",
    "sampling_parameters_config = config_loader.get('sampling_parameters', {})\n",
    "server_config = config_loader.get('server', {})"
   ]
  },
  {
   "cell_type": "code",
   "execution_count": 5,
   "metadata": {},
   "outputs": [
    {
     "name": "stdout",
     "output_type": "stream",
     "text": [
      "Sampling Parameters: {'temperature': 0.8, 'top_p': 0.95, 'max_tokens': 100}\n",
      "Engine Args: {'model': 'google/gemma-2-2b-it', 'tensor_parallel_size': 1, 'max_num_batched_tokens': 4096, 'dtype': 'float16', 'seed': 42, 'gpu_memory_utilization': 0.9, 'max_model_len': 2672, 'swap_space': 4}\n",
      "Server Config: {'host': '0.0.0.0', 'port': 8000, 'timeout_keep_alive': 5}\n"
     ]
    }
   ],
   "source": [
    "print(f\"Sampling Parameters: {sampling_parameters_config}\")\n",
    "print(f\"Engine Args: {engine_args_config}\")\n",
    "print(f\"Server Config: {server_config}\")"
   ]
  },
  {
   "cell_type": "code",
   "execution_count": null,
   "metadata": {},
   "outputs": [],
   "source": [
    "    logger.info(\"Starting Uvicorn server.\")\n",
    "    uvicorn.run(\n",
    "        app,\n",
    "        host=server_config[\"host\"],\n",
    "        port=server_config[\"port\"],\n",
    "        log_level=\"debug\",\n",
    "        timeout_keep_alive=server_config[\"timeout_keep_alive\"]\n",
    "    )"
   ]
  },
  {
   "cell_type": "code",
   "execution_count": 13,
   "metadata": {},
   "outputs": [
    {
     "data": {
      "text/plain": [
       "5"
      ]
     },
     "execution_count": 13,
     "metadata": {},
     "output_type": "execute_result"
    }
   ],
   "source": [
    "server_config.get('host', '0.0.0.0')\n",
    "server_config.get('port', '8000')\n",
    "server_config.get('timeout_keep_alive', '5')"
   ]
  },
  {
   "cell_type": "code",
   "execution_count": null,
   "metadata": {},
   "outputs": [],
   "source": []
  },
  {
   "cell_type": "code",
   "execution_count": 3,
   "metadata": {},
   "outputs": [
    {
     "name": "stdout",
     "output_type": "stream",
     "text": [
      "[INFO] Running in Environment: local\n",
      "Loading configuration from: c:\\Users\\erdrr\\OneDrive\\Desktop\\KB\\Projects\\vllm\\config\\local.yaml\n"
     ]
    }
   ],
   "source": [
    "# Setup logger\n",
    "from src.utils.logger import setup_logger\n",
    "logger = setup_logger()"
   ]
  },
  {
   "cell_type": "code",
   "execution_count": null,
   "metadata": {},
   "outputs": [],
   "source": [
    "logger.info(\"Starting the application\")\n",
    "logger.error(\"This is an error message\")"
   ]
  },
  {
   "cell_type": "code",
   "execution_count": null,
   "metadata": {},
   "outputs": [],
   "source": []
  }
 ],
 "metadata": {
  "kernelspec": {
   "display_name": "Python 3",
   "language": "python",
   "name": "python3"
  },
  "language_info": {
   "codemirror_mode": {
    "name": "ipython",
    "version": 3
   },
   "file_extension": ".py",
   "mimetype": "text/x-python",
   "name": "python",
   "nbconvert_exporter": "python",
   "pygments_lexer": "ipython3",
   "version": "3.11.9"
  }
 },
 "nbformat": 4,
 "nbformat_minor": 2
}
